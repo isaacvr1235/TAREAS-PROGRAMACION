{
 "cells": [
  {
   "cell_type": "markdown",
   "id": "ac7c0301",
   "metadata": {},
   "source": [
    "# 📊 Notebook de Introducción a Python para Data Science\n",
    "\n",
    "| **Nombres de los alumnos:** | [Dante Santiago Ortega Reyes, José Isaac Valle Ramírez, Santiago León Uriel]|\n",
    "| **Fecha:** | [01/10/25] |\n",
    "| **Tema:** | Introducción a Notebooks, Pandas y Visualización |"
   ]
  },
  {
   "cell_type": "markdown",
   "id": "1aa043c1",
   "metadata": {},
   "source": [
    "## 💡 Jupyter vs. Google Colaboratory (Colab)\n",
    "\n",
    "Tanto **Jupyter Notebook** como **Google Colaboratory (Colab)** son entornos de computación interactiva basados en celdas que permiten combinar código, texto enriquecido (Markdown) y salidas en un único documento. La principal diferencia radica en su **hospedaje** y **recursos**:\n",
    "\n",
    "| Característica    | Jupyter Notebook                                                  | Google Colaboratory (Colab) |\n",
    "| **Hospedaje**     | **Local.** Se ejecuta en tu propia computadora.                   | **Nube (Cloud).** Se ejecuta en servidores de Google. |\n",
    "| **Recursos**      | Utiliza la **CPU/RAM** y el almacenamiento de tu **PC**.          | Proporciona **recursos gratuitos** (CPU, GPU o TPU) alojados en Google. |\n",
    "| **Compartir**     | Requiere exportar el archivo (`.ipynb`) o configurar un servidor. | Fácil de compartir, como un documento de Google Drive. |\n",
    "| **Dependencias**  | Debes **instalar** librerías (Pandas, Matplotlib, etc.) localmente.| Las librerías comunes están **preinstaladas**.  |"
   ]
  },
  {
   "cell_type": "code",
   "execution_count": null,
   "id": "3afe6c52",
   "metadata": {},
   "outputs": [],
   "source": [
    "import pandas as pd\n",
    "import io\n",
    "\n",
    "# Creamos un dataset de ejemplo directamente en memoria\n",
    "datos = {\n",
    "    'Producto': ['Laptop', 'Monitor', 'Teclado', 'Mouse', 'Cámara'],\n",
    "    'Precio': [1200, 350, 75, 25, 100],\n",
    "    'Ventas_Q1': [50, 120, 300, 450, 80]\n",
    "}\n",
    "df = pd.DataFrame(datos)\n",
    "\n",
    "# En Colab/Jupyter, generalmente trabajaríamos con archivos ya existentes.\n",
    "# Aquí, simulamos la carga guardando el DF en un archivo temporal (o puedes subir tu propio CSV).\n",
    "\n",
    "print(\"Dataset creado (Head):\")\n",
    "print(df.head())"
   ]
  },
  {
   "cell_type": "code",
   "execution_count": null,
   "id": "1a91f222",
   "metadata": {},
   "outputs": [],
   "source": [
    "# La variable 'df' ya es nuestro DataFrame, pero si estuviera en un archivo:\n",
    "# df_cargado = pd.read_csv('nombre_archivo.csv')\n",
    "\n",
    "# Usamos el DataFrame 'df' creado previamente\n",
    "print(\"\\nInformación del DataFrame cargado:\")\n",
    "df.info()\n",
    "\n",
    "# Accedemos a la columna 'Producto'\n",
    "print(\"\\nColumna 'Producto':\")\n",
    "print(df['Producto'])"
   ]
  },
  {
   "cell_type": "code",
   "execution_count": null,
   "id": "49dd7a23",
   "metadata": {},
   "outputs": [],
   "source": [
    "import matplotlib.pyplot as plt\n",
    "\n",
    "# Configuramos el estilo del gráfico (opcional, pero mejora la estética)\n",
    "plt.style.use('ggplot')\n",
    "\n",
    "# Definimos los datos para el eje X y el eje Y\n",
    "productos = df['Producto']\n",
    "ventas = df['Ventas_Q1']\n",
    "\n",
    "# Creamos el gráfico de barras\n",
    "plt.figure(figsize=(10, 6)) # Define el tamaño del gráfico\n",
    "plt.bar(productos, ventas, color=['skyblue', 'salmon', 'lightgreen', 'gold', 'violet'])\n",
    "\n",
    "# Añadimos títulos y etiquetas\n",
    "plt.title('Ventas del Primer Trimestre por Producto')\n",
    "plt.xlabel('Producto')\n",
    "plt.ylabel('Cantidad de Ventas')\n",
    "\n",
    "# Rotamos las etiquetas del eje X para que no se superpongan\n",
    "plt.xticks(rotation=45) \n",
    "plt.grid(axis='y', linestyle='--') # Agregamos una cuadrícula horizontal\n",
    "\n",
    "# Mostramos el gráfico\n",
    "plt.show()"
   ]
  }
 ],
 "metadata": {
  "language_info": {
   "name": "python"
  }
 },
 "nbformat": 4,
 "nbformat_minor": 5
}
