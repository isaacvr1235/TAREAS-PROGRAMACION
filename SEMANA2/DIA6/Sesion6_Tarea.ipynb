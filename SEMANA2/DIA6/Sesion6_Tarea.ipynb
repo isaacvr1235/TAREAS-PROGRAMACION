{
 "cells": [
  {
   "cell_type": "markdown",
   "id": "4e71cf7b",
   "metadata": {},
   "source": [
    "# 🚀 Ventajas de Usar Visual Studio Code (VS Code) para Desarrollo y Data Science\n",
    "\n",
    "| Ventaja                       | Descripción                                                                                       |\n",
    "| **Integración Nativa**        | Ofrece soporte integrado para **Git y GitHub**, permitiendo realizar *commits*, *pushes* y *pulls* directamente desde la interfaz. |\n",
    "| **Soporte para Jupyter**      | Permite crear y ejecutar notebooks (`.ipynb`) directamente. Facilita la selección de entornos virtuales (kernels) como `mi_proyecto`. |\n",
    "| **Personalización y Extensiones** | Acceso a un vasto marketplace de extensiones (Python, Pylance, Prettier, etc.) que mejoran la experiencia de código, *linting* y depuración. |\n",
    "| **IntelliSense Avanzado**     | Proporciona autocompletado inteligente y sugerencias de código contextualizadas, lo cual es vital al trabajar con librerías complejas como Pandas y Seaborn. |\n",
    "| **Entornos Virtuales**        | Fácil gestión y selección de entornos como `mi_proyecto`, asegurando que el proyecto use las dependencias correctas y aisladas. |"
   ]
  },
  {
   "cell_type": "code",
   "execution_count": null,
   "id": "28131545",
   "metadata": {},
   "outputs": [],
   "source": [
    "import pandas as pd\n",
    "import numpy as np\n",
    "import io\n",
    "\n",
    "# 1. Creación de un dataset simple para el ejemplo (simulando la carga de un CSV)\n",
    "data = {\n",
    "    'Categoría': ['A', 'B', 'A', 'C', 'B', 'C', 'A', 'B'],\n",
    "    'Valor': np.random.randint(10, 100, 8),\n",
    "    'Gasto': np.random.uniform(5.0, 50.0, 8).round(2)\n",
    "}\n",
    "df = pd.DataFrame(data)\n",
    "\n",
    "# 2. Guardar a CSV temporalmente (simula que lo estamos leyendo)\n",
    "# El archivo se guardará en la raíz de tu proyecto\n",
    "df.to_csv('datos_ejemplo.csv', index=False)\n",
    "\n",
    "# 3. Lectura del CSV con Pandas\n",
    "df_cargado = pd.read_csv('datos_ejemplo.csv')\n",
    "\n",
    "print(\"DataFrame cargado exitosamente:\")\n",
    "print(df_cargado.head())\n",
    "print(\"\\nInformación de las columnas:\")\n",
    "df_cargado.info()"
   ]
  },
  {
   "cell_type": "code",
   "execution_count": null,
   "id": "1579d77d",
   "metadata": {},
   "outputs": [],
   "source": [
    "import seaborn as sns\n",
    "import matplotlib.pyplot as plt\n",
    "\n",
    "# 1. Configurar el estilo de Seaborn\n",
    "sns.set_theme(style=\"whitegrid\")\n",
    "\n",
    "# 2. Crear un gráfico de barras que muestre el promedio de 'Valor' por 'Categoría'\n",
    "plt.figure(figsize=(8, 5))\n",
    "\n",
    "# Usamos sns.barplot para mostrar la media del 'Valor' agrupada por 'Categoría'\n",
    "sns.barplot(\n",
    "    x='Categoría', \n",
    "    y='Valor', \n",
    "    data=df_cargado, \n",
    "    palette='viridis', \n",
    "    errorbar=None # Opcional: elimina las barras de error si no son necesarias\n",
    ")\n",
    "\n",
    "# 3. Añadir títulos\n",
    "plt.title('Promedio de Valor por Categoría')\n",
    "plt.xlabel('Categoría del Producto')\n",
    "plt.ylabel('Valor Promedio')\n",
    "plt.show()"
   ]
  }
 ],
 "metadata": {
  "language_info": {
   "name": "python"
  }
 },
 "nbformat": 4,
 "nbformat_minor": 5
}
