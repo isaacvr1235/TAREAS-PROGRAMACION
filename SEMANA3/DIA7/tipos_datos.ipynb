{
 "cells": [
  {
   "cell_type": "markdown",
   "id": "b2ac0108",
   "metadata": {},
   "source": [
    "# Tarea: Tipos de datos en Python\n",
    "\n",
    "📌 En esta tarea practicarás con los **tipos de datos primitivos** y la **conversión entre ellos**.\n",
    "\n",
    "🎯 **Objetivos:**\n",
    "- Crear variables de diferentes tipos.\n",
    "- Convertir entre enteros, flotantes, cadenas y booleanos.\n",
    "- Explicar con comentarios lo que hace cada conversión."
   ]
  },
  {
   "cell_type": "markdown",
   "id": "801cfcd5",
   "metadata": {},
   "source": [
    "## 🔑 Ejemplo 1: Convertir un string a entero\n",
    "Un número escrito como texto puede convertirse a número con `int()`."
   ]
  },
  {
   "cell_type": "code",
   "execution_count": null,
   "id": "d4c849a1",
   "metadata": {},
   "outputs": [],
   "source": [
    "texto_num = \"50\"\n",
    "numero = int(texto_num)  # Convertimos el string \"50\" a número entero\n",
    "print(\"Texto como número entero:\", numero, type(numero))"
   ]
  },
  {
   "cell_type": "markdown",
   "id": "1a13cacd",
   "metadata": {},
   "source": [
    "## 🔑 Ejemplo 2: Convertir un string a número decimal (float)\n",
    "Si el número tiene decimales, usamos `float()`."
   ]
  },
  {
   "cell_type": "code",
   "execution_count": null,
   "id": "065fba1a",
   "metadata": {},
   "outputs": [],
   "source": [
    "decimal_str = \"3.1416\"\n",
    "decimal = float(decimal_str)  # Convertimos el string a número decimal\n",
    "print(\"Texto como número decimal:\", decimal, type(decimal))"
   ]
  },
  {
   "cell_type": "markdown",
   "id": "eb8577de",
   "metadata": {},
   "source": [
    "## 🔑 Ejemplo 3: Convertir un número a string\n",
    "Un número se puede transformar en texto con `str()`."
   ]
  },
  {
   "cell_type": "code",
   "execution_count": null,
   "id": "d16e13b5",
   "metadata": {},
   "outputs": [],
   "source": [
    "edad = 25\n",
    "edad_str = str(edad)  # Convertimos el número entero a texto\n",
    "print(\"Número como texto:\", edad_str, type(edad_str))"
   ]
  },
  {
   "cell_type": "markdown",
   "id": "44b5fb7d",
   "metadata": {},
   "source": [
    "## 🔑 Ejemplo 4: Convertir valores a booleanos\n",
    "Con `bool()`, cualquier valor no vacío o distinto de 0 se convierte en `True`."
   ]
  },
  {
   "cell_type": "code",
   "execution_count": null,
   "id": "69d37b9c",
   "metadata": {},
   "outputs": [],
   "source": [
    "print(bool(1))       # True porque es distinto de 0\n",
    "print(bool(0))       # False porque es 0\n",
    "print(bool(\"Hola\")) # True porque el string no está vacío\n",
    "print(bool(\"\"))     # False porque el string está vacío"
   ]
  },
  {
   "cell_type": "markdown",
   "id": "22ed4283",
   "metadata": {},
   "source": [
    "## 📝 Actividad final\n",
    "1. Crea 2 variables de cada tipo (`int`, `float`, `bool`, `str`).\n",
    "2. Realiza al menos **3 conversiones diferentes**.\n",
    "3. Escribe un **comentario** en cada conversión explicando qué sucede.\n",
    "\n",
    "Guarda tu archivo como **`tipos_datos.ipynb`** y entrégalo."
   ]
  }
 ],
 "metadata": {
  "kernelspec": {
   "display_name": "Python 3 (ipykernel)",
   "language": "python",
   "name": "python3"
  },
  "language_info": {
   "codemirror_mode": {
    "name": "ipython",
    "version": 3
   },
   "file_extension": ".py",
   "mimetype": "text/x-python",
   "name": "python",
   "nbconvert_exporter": "python",
   "pygments_lexer": "ipython3",
   "version": "3.11.13"
  }
 },
 "nbformat": 4,
 "nbformat_minor": 5
}
