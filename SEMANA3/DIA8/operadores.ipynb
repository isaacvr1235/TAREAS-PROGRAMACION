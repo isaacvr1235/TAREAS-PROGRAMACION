{
 "cells": [
  {
   "cell_type": "markdown",
   "id": "9ea37b9b",
   "metadata": {},
   "source": [
    "📔 operadores.ipynb\n",
    "Introducción\n",
    "Este notebook contiene ejercicios prácticos que demuestran el uso de los operadores aritméticos (matemáticos), relacionales (comparación) y lógicos (booleanos) en Python.\n",
    "\n",
    "Problema 1: Cálculo del Área de un Triángulo (Operadores Aritméticos)\n",
    "Calcula el área de un triángulo dada su base y altura, utilizando el operador de multiplicación (*) y división (/).\n",
    "\n",
    "Código:"
   ]
  },
  {
   "cell_type": "code",
   "execution_count": null,
   "id": "11ce1613",
   "metadata": {},
   "outputs": [],
   "source": [
    "\"\"\"\n",
    "Fórmula del área: (base * altura) / 2\n",
    "\"\"\"\n",
    "# 1. Variables de entrada\n",
    "base = 15.5\n",
    "altura = 8.2\n",
    "\n",
    "# 2. Operación aritmética\n",
    "area = (base * altura) / 2\n",
    "\n",
    "# 3. Mostrar el resultado\n",
    "print(\"--- Cálculo del Área de un Triángulo ---\")\n",
    "print(f\"Base: {base} cm\")\n",
    "print(f\"Altura: {altura} cm\")\n",
    "print(f\"El área del triángulo es: {area} cm²\")"
   ]
  },
  {
   "cell_type": "markdown",
   "id": "55ce9c1c",
   "metadata": {},
   "source": [
    "Problema 2: Verificar Múltiplo de Otro Número (Operador Módulo)\n",
    "Verifica si un número entero es múltiplo de otro utilizando el operador módulo (%). Si el resto de la división es cero, es múltiplo.\n",
    "\n",
    "Código:"
   ]
  },
  {
   "cell_type": "code",
   "execution_count": null,
   "id": "47786106",
   "metadata": {},
   "outputs": [],
   "source": [
    "\"\"\"\n",
    "Verificación de múltiplos: Si A % B es 0, entonces A es múltiplo de B.\n",
    "\"\"\"\n",
    "# 1. Variables de entrada\n",
    "numero_a = 45\n",
    "numero_b = 5  # Queremos saber si 45 es múltiplo de 5\n",
    "\n",
    "# 2. Operación módulo y verificación relacional\n",
    "es_multiplo = (numero_a % numero_b == 0)\n",
    "\n",
    "# 3. Mostrar el resultado\n",
    "print(\"--- Verificación de Múltiplo ---\")\n",
    "print(f\"Número A: {numero_a}\")\n",
    "print(f\"Número B: {numero_b}\")\n",
    "\n",
    "if es_multiplo:\n",
    "    print(f\"✅ {numero_a} SÍ es múltiplo de {numero_b}.\")\n",
    "else:\n",
    "    print(f\"❌ {numero_a} NO es múltiplo de {numero_b}.\")\n",
    "\n",
    "# Prueba adicional\n",
    "numero_c = 17\n",
    "numero_d = 3\n",
    "es_multiplo_2 = (numero_c % numero_d == 0)\n",
    "print(f\"\\n¿{numero_c} es múltiplo de {numero_d}? {es_multiplo_2}\")"
   ]
  },
  {
   "cell_type": "markdown",
   "id": "ee72dd45",
   "metadata": {},
   "source": [
    "Problema 3: Mayoría de Edad y Documento (Operadores Relacionales y Lógicos)\n",
    "Revisa si una persona cumple dos condiciones simultáneas: ser mayor de edad (>= 18) Y si posee una identificación (INE). Utiliza los operadores >= y and.\n",
    "\n",
    "Código:"
   ]
  },
  {
   "cell_type": "code",
   "execution_count": null,
   "id": "10af2525",
   "metadata": {},
   "outputs": [],
   "source": [
    "\"\"\"\n",
    "Revisión de requisitos con operador AND: Ambas condiciones deben ser True.\n",
    "\"\"\"\n",
    "# 1. Variables de entrada para una persona\n",
    "edad_persona = 21\n",
    "tiene_ine = True\n",
    "\n",
    "# 2. Aplicación de operadores relacionales y lógicos\n",
    "# Condición 1 (Relacional): edad_persona >= 18\n",
    "# Condición 2 (Booleana): tiene_ine == True\n",
    "puede_realizar_tramite = (edad_persona >= 18) and tiene_ine\n",
    "\n",
    "# 3. Mostrar el resultado\n",
    "print(\"--- Verificación de Mayoría de Edad y Documento (AND) ---\")\n",
    "print(f\"Edad: {edad_persona}\")\n",
    "print(f\"Tiene INE: {tiene_ine}\")\n",
    "\n",
    "if puede_realizar_tramite:\n",
    "    print(\"✅ La persona cumple ambos requisitos para realizar el trámite.\")\n",
    "else:\n",
    "    print(\"❌ La persona NO cumple con todos los requisitos.\")\n",
    "\n",
    "# Prueba con otra persona que falla una condición\n",
    "edad_otra = 17\n",
    "tiene_ine_otra = True\n",
    "puede_realizar_tramite_otra = (edad_otra >= 18) and tiene_ine_otra\n",
    "print(f\"\\nPersona 2 (Edad: {edad_otra}, INE: {tiene_ine_otra}): {puede_realizar_tramite_otra}\")"
   ]
  },
  {
   "cell_type": "markdown",
   "id": "06b53214",
   "metadata": {},
   "source": [
    "Problema 4: Comprobar Rango de Número (Operadores Lógicos)\n",
    "Verifica si un número entero se encuentra dentro de un rango específico (por ejemplo, entre 10 y 50, inclusive). Esto requiere el uso del operador lógico and o la comparación encadenada.\n",
    "\n",
    "Código:"
   ]
  },
  {
   "cell_type": "code",
   "execution_count": null,
   "id": "462adfbf",
   "metadata": {},
   "outputs": [],
   "source": [
    "\"\"\"\n",
    "Comprobar rango: (numero >= LIM_INFERIOR) AND (numero <= LIM_SUPERIOR).\n",
    "\"\"\"\n",
    "# 1. Variables de entrada\n",
    "numero_a_verificar = 35\n",
    "limite_inferior = 10\n",
    "limite_superior = 50\n",
    "\n",
    "# 2. Aplicación de la comparación encadenada (más idiomática en Python)\n",
    "esta_en_rango = limite_inferior <= numero_a_verificar <= limite_superior\n",
    "\n",
    "# 3. Mostrar el resultado\n",
    "print(\"--- Comprobación de Rango ---\")\n",
    "print(f\"Número a verificar: {numero_a_verificar}\")\n",
    "print(f\"Rango: [{limite_inferior}, {limite_superior}]\")\n",
    "\n",
    "if esta_en_rango:\n",
    "    print(f\"✅ El número {numero_a_verificar} SÍ está dentro del rango.\")\n",
    "else:\n",
    "    print(f\"❌ El número {numero_a_verificar} NO está dentro del rango.\")\n",
    "\n",
    "# Prueba con un número fuera de rango\n",
    "numero_b_verificar = 60\n",
    "esta_en_rango_2 = limite_inferior <= numero_b_verificar <= limite_superior\n",
    "print(f\"\\n¿{numero_b_verificar} está en el rango? {esta_en_rango_2}\")"
   ]
  },
  {
   "cell_type": "markdown",
   "id": "d72356a6",
   "metadata": {},
   "source": [
    "Problema 5: Resolver Expresión Compuesta (Prioridad de Operadores)\n",
    "Resuelve una expresión compleja que utiliza varios tipos de operadores (*, +, ** (potencia), // (división entera), != (diferente de)) para demostrar la prioridad de los operadores en Python.\n",
    "\n",
    "Código:"
   ]
  },
  {
   "cell_type": "code",
   "execution_count": null,
   "id": "f59bad85",
   "metadata": {},
   "outputs": [],
   "source": [
    "\"\"\"\n",
    "Expresión Compuesta: Demuestra el orden de precedencia (Potencia > Mult/Div > Suma/Resta).\n",
    "Además, incluye operadores de asignación y relacionales.\n",
    "\"\"\"\n",
    "\n",
    "# 1. Inicialización de variables\n",
    "X = 5\n",
    "Y = 2\n",
    "\n",
    "# 2. Expresión aritmética compleja\n",
    "# Orden de ejecución (Precedencia):\n",
    "# 1. Potencia (**) -> 5 ** 2 = 25\n",
    "# 2. Multiplicación (*) -> 3 * 6 = 18\n",
    "# 3. División Entera (//) -> 25 // 4 = 6\n",
    "# 4. Suma (+) -> 6 + 18 = 24\n",
    "resultado_aritmetico = (X ** Y // 4) + (3 * 6)\n",
    "\n",
    "# 3. Expresión lógica y relacional (combinando el resultado anterior)\n",
    "# Se comprueba: (24 es diferente de 23) Y (2 es menor o igual a 2)\n",
    "expresion_logica = (resultado_aritmetico != 23) and (Y <= 2)\n",
    "\n",
    "# 4. Mostrar el resultado\n",
    "print(\"--- Expresión Compuesta (Prioridad) ---\")\n",
    "print(f\"Valores iniciales: X={X}, Y={Y}\")\n",
    "print(f\"Expresión aritmética: (X ** Y // 4) + (3 * 6)\")\n",
    "print(f\"Resultado Aritmético: {resultado_aritmetico}\") # Debería ser 24\n",
    "\n",
    "print(\"\\nEvaluación Lógica:\")\n",
    "print(f\"Expresión Lógica: (Resultado != 23) AND (Y <= 2)\")\n",
    "print(f\"Resultado Lógico: {expresion_logica}\")"
   ]
  }
 ],
 "metadata": {
  "language_info": {
   "name": "python"
  }
 },
 "nbformat": 4,
 "nbformat_minor": 5
}
