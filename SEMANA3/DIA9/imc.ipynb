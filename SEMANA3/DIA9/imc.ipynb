{
 "cells": [
  {
   "cell_type": "markdown",
   "id": "e3e81ef6",
   "metadata": {},
   "source": [
    "# Tarea: Cálculo del IMC en Python\n",
    "\n",
    "📌 En esta tarea escribirás un programa en Python que calcule el **Índice de Masa Corporal (IMC)**.\n",
    "\n",
    "🎯 **Objetivos:**\n",
    "- Usar variables y constantes en Python.\n",
    "- Aplicar buenas prácticas de programación (PEP8).\n",
    "- Documentar el código con comentarios y explicación en Markdown.\n",
    "- Subir el archivo a GitHub."
   ]
  },
  {
   "cell_type": "markdown",
   "id": "91d10108",
   "metadata": {},
   "source": [
    "## 📖 Explicación\n",
    "El **Índice de Masa Corporal (IMC)** es una medida que relaciona el peso y la altura de una persona.\n",
    "\n",
    "La fórmula es:\n",
    "$$\n",
    "IMC = \\frac{peso}{altura^2}\n",
    "$$\n",
    "\n",
    "- **Peso** en kilogramos.\n",
    "- **Altura** en metros.\n",
    "- El resultado se clasifica en categorías de bajo peso, normal, sobrepeso u obesidad."
   ]
  },
  {
   "cell_type": "code",
   "execution_count": null,
   "id": "51013027",
   "metadata": {},
   "outputs": [],
   "source": [
    "# Tarea: Cálculo del IMC\n",
    "# -------------------------------------------------\n",
    "# Este programa calcula el Índice de Masa Corporal (IMC)\n",
    "# siguiendo las buenas prácticas de PEP8 en Python.\n",
    "# Fórmula: IMC = peso / (altura ** 2)\n",
    "# -------------------------------------------------\n",
    "\n",
    "# Entrada de datos (ejemplo)\n",
    "peso = 68       # peso en kilogramos\n",
    "altura = 1.72   # altura en metros\n",
    "\n",
    "# Cálculo del IMC\n",
    "imc = peso / (altura ** 2)\n",
    "\n",
    "# Salida con clasificación\n",
    "print(\"Tu IMC es:\", round(imc, 2))\n",
    "\n",
    "if imc < 18.5:\n",
    "    print(\"Clasificación: Bajo peso\")\n",
    "elif 18.5 <= imc < 25:\n",
    "    print(\"Clasificación: Peso normal\")\n",
    "elif 25 <= imc < 30:\n",
    "    print(\"Clasificación: Sobrepeso\")\n",
    "else:\n",
    "    print(\"Clasificación: Obesidad\")"
   ]
  },
  {
   "cell_type": "markdown",
   "id": "cc8f496d",
   "metadata": {},
   "source": [
    "## 📝 Instrucciones finales\n",
    "1. Modifica el programa para que **pida los datos al usuario** con `input()`.\n",
    "2. Agrega más pruebas con diferentes valores de peso y altura.\n",
    "3. Comenta el código explicando cada paso.\n",
    "4. Sube tu archivo como **`imc.ipynb`** a GitHub."
   ]
  }
 ],
 "metadata": {
  "kernelspec": {
   "display_name": "Python 3 (ipykernel)",
   "language": "python",
   "name": "python3"
  },
  "language_info": {
   "codemirror_mode": {
    "name": "ipython",
    "version": 3
   },
   "file_extension": ".py",
   "mimetype": "text/x-python",
   "name": "python",
   "nbconvert_exporter": "python",
   "pygments_lexer": "ipython3",
   "version": "3.11.13"
  }
 },
 "nbformat": 4,
 "nbformat_minor": 5
}
