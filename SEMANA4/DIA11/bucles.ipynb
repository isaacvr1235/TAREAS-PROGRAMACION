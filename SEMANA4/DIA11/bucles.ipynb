{
 "cells": [
  {
   "cell_type": "markdown",
   "id": "1a7d0501",
   "metadata": {},
   "source": [
    "📔 bucles.ipynbIntroducciónEste notebook está dedicado a la práctica de los bucles (for y while) en Python, herramientas esenciales para la automatización de tareas repetitivas y la iteración sobre colecciones de datos.\n",
    "\n",
    "Ejercicio 1: Sumatoria de los Primeros $n$ Números (Bucle for)\n",
    "📝 DescripciónCalcula la sumatoria de todos los números enteros desde 1 hasta un límite $n$ dado.💻 Código"
   ]
  },
  {
   "cell_type": "code",
   "execution_count": null,
   "id": "ed8fe22a",
   "metadata": {},
   "outputs": [],
   "source": [
    "def calcular_sumatoria(n):\n",
    "    \"\"\"\n",
    "    Calcula 1 + 2 + 3 + ... + n usando un bucle for.\n",
    "    \"\"\"\n",
    "    suma_total = 0\n",
    "    \n",
    "    # El bucle va desde 1 hasta n (range(1, n+1))\n",
    "    for i in range(1, n + 1):\n",
    "        suma_total += i  # Acumula el valor actual de i\n",
    "        \n",
    "    print(f\"La sumatoria de los primeros {n} números es: {suma_total}\")\n",
    "\n",
    "# --- Pruebas de Ejemplo ---\n",
    "print(\"--- EJERCICIO 1: SUMATORIA ---\")\n",
    "calcular_sumatoria(5)  # 1 + 2 + 3 + 4 + 5 = 15\n",
    "calcular_sumatoria(10) # 1 + 2 + ... + 10 = 55"
   ]
  },
  {
   "cell_type": "markdown",
   "id": "288c330d",
   "metadata": {},
   "source": [
    "Ejercicio 2: Cálculo del Factorial de un Número (Bucle for)\n",
    "📝 DescripciónCalcula el factorial de un número entero no negativo $n$ (representado por $n!$), que es el producto de todos los enteros positivos menores o iguales a $n$.💻 Código"
   ]
  },
  {
   "cell_type": "code",
   "execution_count": null,
   "id": "d4d21b26",
   "metadata": {},
   "outputs": [],
   "source": [
    "def calcular_factorial(n):\n",
    "    \"\"\"\n",
    "    Calcula n! = n * (n-1) * ... * 1 usando un bucle for.\n",
    "    \"\"\"\n",
    "    if n < 0:\n",
    "        return \"El factorial no está definido para números negativos.\"\n",
    "    if n == 0:\n",
    "        return 1\n",
    "        \n",
    "    factorial = 1\n",
    "    \n",
    "    # El bucle itera hacia atrás, desde n hasta 1\n",
    "    for i in range(n, 0, -1):\n",
    "        factorial *= i  # Multiplica el factorial por el valor actual de i\n",
    "        \n",
    "    print(f\"El factorial de {n} ({n}!) es: {factorial}\")\n",
    "    return factorial\n",
    "\n",
    "# --- Pruebas de Ejemplo ---\n",
    "print(\"--- EJERCICIO 2: FACTORIAL ---\")\n",
    "calcular_factorial(5)  # 5 * 4 * 3 * 2 * 1 = 120\n",
    "calcular_factorial(7)  # 5040\n",
    "calcular_factorial(0)  # 1"
   ]
  },
  {
   "cell_type": "markdown",
   "id": "8e195f9b",
   "metadata": {},
   "source": [
    "Ejercicio 3: Conteo de Vocales en una Palabra (Bucle for)\n",
    "📝 Descripción\n",
    "Dada una cadena de texto (palabra o frase), cuenta cuántas vocales (a, e, i, o, u) contiene, sin importar si son mayúsculas o minúsculas.\n",
    "\n",
    "💻 Código"
   ]
  },
  {
   "cell_type": "code",
   "execution_count": null,
   "id": "27460f8a",
   "metadata": {},
   "outputs": [],
   "source": [
    "def contar_vocales(texto):\n",
    "    \"\"\"\n",
    "    Cuenta el número de vocales en una cadena de texto.\n",
    "    \"\"\"\n",
    "    vocales = 'aeiouáéíóú'\n",
    "    conteo_vocales = 0\n",
    "    \n",
    "    # Normalizar el texto a minúsculas para simplificar la comparación\n",
    "    texto_lower = texto.lower()\n",
    "    \n",
    "    # Iterar sobre cada carácter del texto\n",
    "    for caracter in texto_lower:\n",
    "        # Condicional: verificar si el carácter está en la cadena de vocales\n",
    "        if caracter in vocales:\n",
    "            conteo_vocales += 1\n",
    "            \n",
    "    print(f\"Texto: '{texto}'\")\n",
    "    print(f\"Total de vocales encontradas: {conteo_vocales}\")\n",
    "    return conteo_vocales\n",
    "\n",
    "# --- Pruebas de Ejemplo ---\n",
    "print(\"--- EJERCICIO 3: CONTEO DE VOCALES ---\")\n",
    "contar_vocales(\"Programacion en Python\") # 8 vocales\n",
    "contar_vocales(\"Murciélago\")              # 5 vocales, incluyendo tilde"
   ]
  },
  {
   "cell_type": "markdown",
   "id": "8ef88781",
   "metadata": {},
   "source": [
    "Ejercicio 4: Generar Lista de Cuadrados (Bucle for y List Comprehension)\n",
    "📝 Descripción\n",
    "Genera una lista que contenga los cuadrados de los primeros 10 números enteros positivos. Se mostrará la solución usando el bucle for tradicional y, como alternativa avanzada, la List Comprehension.\n",
    "\n",
    "💻 Código"
   ]
  },
  {
   "cell_type": "code",
   "execution_count": null,
   "id": "ad5d287a",
   "metadata": {},
   "outputs": [],
   "source": [
    "def generar_cuadrados():\n",
    "    \"\"\"\n",
    "    Genera una lista de los cuadrados de 1 a 10 usando un bucle for.\n",
    "    \"\"\"\n",
    "    cuadrados_for = []\n",
    "    \n",
    "    # Iterar de 1 a 10 (incluido)\n",
    "    for i in range(1, 11):\n",
    "        cuadrado = i ** 2\n",
    "        cuadrados_for.append(cuadrado)\n",
    "        \n",
    "    print(f\"Lista de cuadrados (Bucle FOR): {cuadrados_for}\")\n",
    "    \n",
    "    # Alternativa: List Comprehension (más concisa)\n",
    "    cuadrados_lc = [i ** 2 for i in range(1, 11)]\n",
    "    print(f\"Lista de cuadrados (List Comp.): {cuadrados_lc}\")\n",
    "    \n",
    "    return cuadrados_for\n",
    "\n",
    "# --- Pruebas de Ejemplo ---\n",
    "print(\"--- EJERCICIO 4: LISTA DE CUADRADOS ---\")\n",
    "generar_cuadrados()"
   ]
  },
  {
   "cell_type": "markdown",
   "id": "bcf11a4b",
   "metadata": {},
   "source": [
    "Ejercicio 5: Simulación de Cajero Automático con Intentos Limitados (Bucle while)\n",
    "📝 Descripción\n",
    "Simula el inicio de sesión en un cajero automático. El usuario tiene 3 intentos para ingresar un PIN correcto. El bucle while se utiliza para controlar los intentos restantes.\n",
    "\n",
    "💻 Código"
   ]
  },
  {
   "cell_type": "code",
   "execution_count": null,
   "id": "64cadedf",
   "metadata": {},
   "outputs": [],
   "source": [
    "def simular_cajero():\n",
    "    \"\"\"\n",
    "    Simula el inicio de sesión en un cajero con un bucle while y límite de intentos.\n",
    "    \"\"\"\n",
    "    PIN_CORRECTO = \"1234\"\n",
    "    MAX_INTENTOS = 3\n",
    "    intentos = 0\n",
    "    \n",
    "    print(\"--- EJERCICIO 5: CAJERO AUTOMÁTICO ---\")\n",
    "    \n",
    "    # 1. Bucle 'while' para repetir la solicitud hasta que se agoten los intentos o se acierte\n",
    "    while intentos < MAX_INTENTOS:\n",
    "        pin_ingresado = input(f\"Ingrese su PIN (Intento {intentos + 1}/{MAX_INTENTOS}): \")\n",
    "        \n",
    "        # 2. Condicional para verificar el PIN\n",
    "        if pin_ingresado == PIN_CORRECTO:\n",
    "            print(\"✅ PIN CORRECTO. Bienvenido a su cuenta.\")\n",
    "            return # Termina la función (y el bucle)\n",
    "        else:\n",
    "            intentos += 1\n",
    "            intentos_restantes = MAX_INTENTOS - intentos\n",
    "            \n",
    "            if intentos_restantes > 0:\n",
    "                print(f\"❌ PIN INCORRECTO. Le quedan {intentos_restantes} intentos.\")\n",
    "            \n",
    "    # Este bloque se ejecuta si el bucle while termina por agotar los intentos\n",
    "    print(\"----------------------------------------\")\n",
    "    print(\"🔒 TARJETA BLOQUEADA. Ha excedido el número máximo de intentos.\")\n",
    "\n",
    "# --- Pruebas de Ejemplo ---\n",
    "# NOTA: Para probar, deberás ingresar las elecciones por consola.\n",
    "# simular_cajero() # Descomenta para interactuar con el cajero"
   ]
  }
 ],
 "metadata": {
  "language_info": {
   "name": "python"
  }
 },
 "nbformat": 4,
 "nbformat_minor": 5
}
