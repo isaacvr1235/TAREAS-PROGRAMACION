{
 "cells": [
  {
   "cell_type": "markdown",
   "id": "c07d0b38",
   "metadata": {},
   "source": [
    "📔 listas_tuplas.ipynb\n",
    "Introducción\n",
    "Este notebook contiene ejercicios adicionales para practicar el manejo de listas (mutables) y tuplas (inmutables) en Python.\n",
    "\n",
    "Ejercicio 1: Encontrar el Número Mayor y Menor en una Lista\n",
    "Este ejercicio utiliza las funciones integradas max() y min() para encontrar los valores extremos en una lista de números.\n",
    "\n",
    "Código:\n"
   ]
  },
  {
   "cell_type": "code",
   "execution_count": null,
   "id": "f0a45f66",
   "metadata": {},
   "outputs": [],
   "source": [
    "# 1. Definir la lista de números\n",
    "numeros = [15, 8, 42, 3, 56, 1, 99, 10]\n",
    "\n",
    "# 2. Encontrar el número mayor\n",
    "num_mayor = max(numeros)\n",
    "\n",
    "# 3. Encontrar el número menor\n",
    "num_menor = min(numeros)\n",
    "\n",
    "# 4. Imprimir resultados\n",
    "print(f\"Lista original: {numeros}\")\n",
    "print(f\"El número mayor de la lista es: {num_mayor}\")\n",
    "print(f\"El número menor de la lista es: {num_menor}\")"
   ]
  },
  {
   "cell_type": "markdown",
   "id": "e6a88a37",
   "metadata": {},
   "source": [
    "Ejercicio 2: Contar Frecuencia de Elementos en una Lista\n",
    "Este ejercicio cuenta cuántas veces aparece cada elemento dentro de una lista, utilizando un bucle for y un diccionario para almacenar los conteos.\n",
    "\n",
    "Código:"
   ]
  },
  {
   "cell_type": "code",
   "execution_count": null,
   "id": "1ce6f24b",
   "metadata": {},
   "outputs": [],
   "source": [
    "# 1. Definir la lista de nombres (con repeticiones)\n",
    "nombres = [\"Ana\", \"Pedro\", \"Luis\", \"Ana\", \"Marta\", \"Pedro\", \"Ana\", \"Sofía\"]\n",
    "\n",
    "# 2. Inicializar un diccionario para almacenar el conteo\n",
    "frecuencia = {}\n",
    "\n",
    "# 3. Recorrer la lista y contar las ocurrencias\n",
    "for nombre in nombres:\n",
    "    # Si el nombre ya está en el diccionario, incrementa su valor\n",
    "    if nombre in frecuencia:\n",
    "        frecuencia[nombre] += 1\n",
    "    # Si no está, inicialízalo con 1\n",
    "    else:\n",
    "        frecuencia[nombre] = 1\n",
    "\n",
    "# 4. Imprimir resultados\n",
    "print(f\"Lista de nombres: {nombres}\")\n",
    "print(\"Frecuencia de cada nombre:\")\n",
    "for nombre, cuenta in frecuencia.items():\n",
    "    print(f\"- {nombre}: {cuenta} veces\")"
   ]
  },
  {
   "cell_type": "markdown",
   "id": "41c53f35",
   "metadata": {},
   "source": [
    "Ejercicio 3: Conversión Bidireccional entre Lista y Tupla\n",
    "Demuestra cómo convertir una lista a tupla y una tupla a lista usando las funciones tuple() y list().\n",
    "\n",
    "Código:"
   ]
  },
  {
   "cell_type": "code",
   "execution_count": null,
   "id": "90c34a95",
   "metadata": {},
   "outputs": [],
   "source": [
    "# 1. Lista inicial\n",
    "mi_lista = [10, 20, 30, 40]\n",
    "\n",
    "# 2. Convertir la lista a tupla\n",
    "mi_tupla = tuple(mi_lista)\n",
    "\n",
    "# 3. Tupla inicial\n",
    "otra_tupla = ('a', 'b', 'c')\n",
    "\n",
    "# 4. Convertir la tupla a lista\n",
    "otra_lista = list(otra_tupla)\n",
    "\n",
    "# 5. Imprimir resultados y verificar tipos\n",
    "print(f\"Lista inicial: {mi_lista} (Tipo: {type(mi_lista)})\")\n",
    "print(f\"Lista convertida a tupla: {mi_tupla} (Tipo: {type(mi_tupla)})\")\n",
    "print(\"-\" * 20)\n",
    "print(f\"Tupla inicial: {otra_tupla} (Tipo: {type(otra_tupla)})\")\n",
    "print(f\"Tupla convertida a lista: {otra_lista} (Tipo: {type(otra_lista)})\")"
   ]
  },
  {
   "cell_type": "markdown",
   "id": "c00c1791",
   "metadata": {},
   "source": [
    "Ejercicio 4: Creación de una Matriz (Lista de Listas) y Acceso a Elementos\n",
    "Se crea una lista de listas para simular una matriz (o tabla) y se accede a un elemento específico usando doble indexación [fila][columna].\n",
    "\n",
    "Código:"
   ]
  },
  {
   "cell_type": "code",
   "execution_count": null,
   "id": "415a8025",
   "metadata": {},
   "outputs": [],
   "source": [
    "# 1. Crear una matriz 3x3 (Lista de Listas)\n",
    "matriz = [\n",
    "    [1, 2, 3],  # Fila 0\n",
    "    [4, 5, 6],  # Fila 1\n",
    "    [7, 8, 9]   # Fila 2\n",
    "]\n",
    "\n",
    "# 2. Acceder a un elemento: Fila 1, Columna 2 (que es el número 6)\n",
    "elemento_especifico = matriz[1][2]\n",
    "\n",
    "# 3. Acceder a un elemento: Fila 2, Columna 0 (que es el número 7)\n",
    "otro_elemento = matriz[2][0]\n",
    "\n",
    "# 4. Imprimir resultados\n",
    "print(\"Matriz (Lista de Listas):\")\n",
    "for fila in matriz:\n",
    "    print(fila)\n",
    "print(f\"\\nElemento en [1][2] (Fila 1, Columna 2): {elemento_especifico}\")\n",
    "print(f\"Elemento en [2][0] (Fila 2, Columna 0): {otro_elemento}\")"
   ]
  },
  {
   "cell_type": "markdown",
   "id": "7f37de24",
   "metadata": {},
   "source": [
    "Ejercicio 5: Verificar Contenido de una Tupla y Uso de List Comprehension (Reto Adicional)\n",
    "Este ejercicio verifica la presencia de un elemento en una tupla usando el operador in. Luego, se aplica el Reto Adicional generando longitudes de palabras que cumplen una condición, usando list comprehension.\n",
    "\n",
    "Código:"
   ]
  },
  {
   "cell_type": "code",
   "execution_count": null,
   "id": "320303c9",
   "metadata": {},
   "outputs": [],
   "source": [
    "# Parte A: Verificar si un elemento está contenido en una tupla\n",
    "\n",
    "# 1. Definir la tupla de colores\n",
    "colores_tupla = ('rojo', 'verde', 'azul', 'amarillo', 'morado')\n",
    "\n",
    "# 2. Elemento a buscar\n",
    "elemento_a_buscar = 'azul'\n",
    "elemento_no_existe = 'blanco'\n",
    "\n",
    "# 3. Verificar si el elemento_a_buscar está en la tupla\n",
    "esta_contenido = elemento_a_buscar in colores_tupla\n",
    "no_esta_contenido = elemento_no_existe in colores_tupla\n",
    "\n",
    "# 4. Imprimir resultados\n",
    "print(\"Parte A: Verificación de Contenido\")\n",
    "print(f\"Tupla de colores: {colores_tupla}\")\n",
    "print(f\"¿'{elemento_a_buscar}' está en la tupla? {esta_contenido}\")\n",
    "print(f\"¿'{elemento_no_existe}' está en la tupla? {no_esta_contenido}\")\n",
    "\n",
    "print(\"-\" * 20)\n",
    "\n",
    "# Parte B: Reto Adicional - List Comprehension\n",
    "\n",
    "# 1. Lista de palabras para el reto\n",
    "palabras_largas = ['manzana', 'platano', 'uva', 'naranja', 'kiwi', 'mandarina', 'pera']\n",
    "\n",
    "# 2. Generar solo las longitudes de las palabras que tengan MÁS de 6 letras\n",
    "# sintaxis: [EXPRESIÓN for ITEM in ITERABLE if CONDICIÓN]\n",
    "longitudes = [len(palabra) for palabra in palabras_largas if len(palabra) > 6]\n",
    "\n",
    "# 3. Imprimir el resultado del reto\n",
    "print(\"Parte B: Reto Adicional (List Comprehension)\")\n",
    "print(f\"Lista de palabras original: {palabras_largas}\")\n",
    "print(f\"Longitudes de palabras con más de 6 letras: {longitudes}\")"
   ]
  }
 ],
 "metadata": {
  "language_info": {
   "name": "python"
  }
 },
 "nbformat": 4,
 "nbformat_minor": 5
}
