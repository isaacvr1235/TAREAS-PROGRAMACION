{
 "cells": [
  {
   "cell_type": "markdown",
   "id": "adec2904",
   "metadata": {},
   "source": [
    "📔 ejercicios_estructuras.ipynb\n",
    "Mini-proyecto: Registro de Estudiantes\n",
    "Este notebook simula un sistema de registro de estudiantes utilizando una lista de diccionarios. Demostraremos cómo gestionar y consultar los datos usando funciones en Python.\n",
    "\n",
    "La estructura de datos principal es: registro = [ {...estudiante_1...}, {...estudiante_2...}, ... ]\n",
    "\n",
    "Estructura Principal de Datos"
   ]
  },
  {
   "cell_type": "code",
   "execution_count": null,
   "id": "b2e26f1a",
   "metadata": {},
   "outputs": [],
   "source": [
    "# Lista de diccionarios para almacenar a todos los estudiantes\n",
    "registro_estudiantes = []"
   ]
  },
  {
   "cell_type": "markdown",
   "id": "9e100edf",
   "metadata": {},
   "source": [
    "Función 1: agregar_estudiante()\n",
    "Valida que el estudiante tenga los campos requeridos y que la edad y el promedio sean números, luego lo añade al registro.\n",
    "\n",
    "Código:"
   ]
  },
  {
   "cell_type": "code",
   "execution_count": null,
   "id": "21eca8cc",
   "metadata": {},
   "outputs": [],
   "source": [
    "def agregar_estudiante(registro, estudiante):\n",
    "    \"\"\"\n",
    "    Valida y agrega un diccionario de estudiante al registro.\n",
    "    Retorna True si la adición fue exitosa, False en caso contrario.\n",
    "    \"\"\"\n",
    "    campos_requeridos = [\"nombre\", \"edad\", \"carrera\", \"promedio\"]\n",
    "    \n",
    "    # 1. Validación de campos\n",
    "    if not all(campo in estudiante for campo in campos_requeridos):\n",
    "        print(\"❌ Error: Faltan campos requeridos (nombre, edad, carrera, promedio).\")\n",
    "        return False\n",
    "        \n",
    "    # 2. Validación de tipos (Edad y Promedio)\n",
    "    try:\n",
    "        estudiante[\"edad\"] = int(estudiante[\"edad\"])\n",
    "        estudiante[\"promedio\"] = float(estudiante[\"promedio\"])\n",
    "    except ValueError:\n",
    "        print(\"❌ Error: Edad y Promedio deben ser valores numéricos.\")\n",
    "        return False\n",
    "        \n",
    "    # 3. Validación de rango de promedio\n",
    "    if not (0.0 <= estudiante[\"promedio\"] <= 10.0):\n",
    "        print(\"❌ Error: El promedio debe estar entre 0.0 y 10.0.\")\n",
    "        return False\n",
    "\n",
    "    # 4. Agregar al registro\n",
    "    registro.append(estudiante)\n",
    "    print(f\"✅ Estudiante '{estudiante['nombre']}' agregado con éxito.\")\n",
    "    return True\n",
    "\n",
    "# --- Ejemplo de Uso ---\n",
    "print(\"--- AGREGAR ESTUDIANTES ---\")\n",
    "\n",
    "# Estudiantes válidos\n",
    "agregar_estudiante(registro_estudiantes, {\"nombre\": \"Ana López\", \"edad\": 20, \"carrera\": \"Datos\", \"promedio\": 9.1})\n",
    "agregar_estudiante(registro_estudiantes, {\"nombre\": \"Luis Pérez\", \"edad\": 22, \"carrera\": \"Sistemas\", \"promedio\": 8.5})\n",
    "agregar_estudiante(registro_estudiantes, {\"nombre\": \"Marta Cruz\", \"edad\": 19, \"carrera\": \"Datos\", \"promedio\": 9.8})\n",
    "agregar_estudiante(registro_estudiantes, {\"nombre\": \"Javier Soto\", \"edad\": 21, \"carrera\": \"Sistemas\", \"promedio\": 7.9})\n",
    "\n",
    "# Intentos fallidos\n",
    "agregar_estudiante(registro_estudiantes, {\"nombre\": \"Error\", \"carrera\": \"IA\", \"promedio\": 11.0}) # Faltan campos y promedio > 10\n",
    "agregar_estudiante(registro_estudiantes, {\"nombre\": \"Test\", \"edad\": \"veinte\", \"carrera\": \"Test\", \"promedio\": 8.0}) # Edad no numérica"
   ]
  },
  {
   "cell_type": "markdown",
   "id": "189fef61",
   "metadata": {},
   "source": [
    "Función 2: listar_estudiantes()\n",
    "Recorre el registro e imprime los datos en un formato de tabla simple para una visualización clara.\n",
    "\n",
    "Código:"
   ]
  },
  {
   "cell_type": "code",
   "execution_count": null,
   "id": "886569da",
   "metadata": {},
   "outputs": [],
   "source": [
    "def listar_estudiantes(registro):\n",
    "    \"\"\"\n",
    "    Imprime una tabla simple con los datos de todos los estudiantes en el registro.\n",
    "    \"\"\"\n",
    "    if not registro:\n",
    "        print(\"⚠️ El registro de estudiantes está vacío.\")\n",
    "        return\n",
    "\n",
    "    print(\"\\n\" + \"=\"*50)\n",
    "    print(\"REGISTRO COMPLETO DE ESTUDIANTES\")\n",
    "    print(\"=\"*50)\n",
    "    \n",
    "    # Encabezados de la tabla\n",
    "    print(f\"{'NOMBRE':<15} | {'EDAD':<5} | {'CARRERA':<10} | {'PROMEDIO':<8}\")\n",
    "    print(\"-\" * 50)\n",
    "\n",
    "    # Imprimir los datos de cada estudiante\n",
    "    for est in registro:\n",
    "        print(\n",
    "            f\"{est['nombre']:<15} | {est['edad']:<5} | {est['carrera']:<10} | {est['promedio']:<8.2f}\"\n",
    "        )\n",
    "    print(\"=\"*50)\n",
    "\n",
    "# --- Ejemplo de Uso ---\n",
    "listar_estudiantes(registro_estudiantes)"
   ]
  },
  {
   "cell_type": "markdown",
   "id": "af3de82e",
   "metadata": {},
   "source": [
    "Función 3: buscar_por_carrera()\n",
    "Filtra el registro para encontrar y devolver una nueva lista con solo los estudiantes inscritos en una carrera específica.\n",
    "\n",
    "Código:"
   ]
  },
  {
   "cell_type": "code",
   "execution_count": null,
   "id": "86c919dc",
   "metadata": {},
   "outputs": [],
   "source": [
    "def buscar_por_carrera(registro, carrera):\n",
    "    \"\"\"\n",
    "    Busca estudiantes por la carrera especificada (insensible a mayúsculas/minúsculas).\n",
    "    Retorna una lista de diccionarios filtrada.\n",
    "    \"\"\"\n",
    "    carrera_normalizada = carrera.lower()\n",
    "    \n",
    "    # Usando List Comprehension para filtrar eficientemente\n",
    "    estudiantes_filtrados = [\n",
    "        est for est in registro \n",
    "        if est[\"carrera\"].lower() == carrera_normalizada\n",
    "    ]\n",
    "    \n",
    "    return estudiantes_filtrados\n",
    "\n",
    "# --- Ejemplo de Uso ---\n",
    "print(\"\\n--- BÚSQUEDA POR CARRERA ('Datos') ---\")\n",
    "carrera_buscada = \"dAtOs\"\n",
    "resultados = buscar_por_carrera(registro_estudiantes, carrera_buscada)\n",
    "\n",
    "if resultados:\n",
    "    print(f\"Estudiantes encontrados en '{carrera_buscada.title()}':\")\n",
    "    # Mostrar los nombres y promedios de los resultados\n",
    "    for est in resultados:\n",
    "        print(f\"- {est['nombre']} (Promedio: {est['promedio']:.2f})\")\n",
    "else:\n",
    "    print(f\"⚠️ No se encontraron estudiantes en la carrera '{carrera_buscada}'.\")"
   ]
  },
  {
   "cell_type": "markdown",
   "id": "049464cb",
   "metadata": {},
   "source": [
    "Función 4: mejor_promedio()\n",
    "Recorre la lista de estudiantes para encontrar el registro con el promedio más alto y devuelve el nombre y el promedio.\n",
    "\n",
    "Código:"
   ]
  },
  {
   "cell_type": "code",
   "execution_count": null,
   "id": "251476a4",
   "metadata": {},
   "outputs": [],
   "source": [
    "def mejor_promedio(registro):\n",
    "    \"\"\"\n",
    "    Encuentra al estudiante con el promedio más alto en el registro.\n",
    "    Retorna una tupla (nombre, promedio) o (None, None) si el registro está vacío.\n",
    "    \"\"\"\n",
    "    if not registro:\n",
    "        return None, None\n",
    "        \n",
    "    mejor_estudiante = registro[0] # Asumimos el primer estudiante como el mejor inicialmente\n",
    "    \n",
    "    for est in registro:\n",
    "        if est[\"promedio\"] > mejor_estudiante[\"promedio\"]:\n",
    "            mejor_estudiante = est # Actualiza si encuentra uno con mejor promedio\n",
    "            \n",
    "    return mejor_estudiante[\"nombre\"], mejor_estudiante[\"promedio\"]\n",
    "\n",
    "# --- Ejemplo de Uso ---\n",
    "print(\"\\n--- MEJOR PROMEDIO GENERAL ---\")\n",
    "nombre_top, promedio_top = mejor_promedio(registro_estudiantes)\n",
    "\n",
    "if nombre_top:\n",
    "    print(f\"🏆 El estudiante con el mejor promedio es: {nombre_top}\")\n",
    "    print(f\"   Promedio: {promedio_top:.2f}\")\n",
    "else:\n",
    "    print(\"⚠️ El registro está vacío.\")"
   ]
  },
  {
   "cell_type": "markdown",
   "id": "23e0b81a",
   "metadata": {},
   "source": [
    "Extra (Opcional): Cálculo del Promedio General\n",
    "Calcula el promedio general de todos los estudiantes inscritos en el registro, utilizando la suma de promedios y el conteo total.\n",
    "\n",
    "Código:"
   ]
  },
  {
   "cell_type": "code",
   "execution_count": null,
   "id": "f7c542f8",
   "metadata": {},
   "outputs": [],
   "source": [
    "def calcular_promedio_general(registro):\n",
    "    \"\"\"\n",
    "    Calcula el promedio general de todos los estudiantes en el registro.\n",
    "    \"\"\"\n",
    "    if not registro:\n",
    "        return 0.0\n",
    "\n",
    "    suma_promedios = 0.0\n",
    "    \n",
    "    # Sumar todos los promedios\n",
    "    for est in registro:\n",
    "        suma_promedios += est[\"promedio\"]\n",
    "        \n",
    "    # Calcular el promedio\n",
    "    promedio_general = suma_promedios / len(registro)\n",
    "    return promedio_general\n",
    "\n",
    "# --- Ejemplo de Uso ---\n",
    "print(\"\\n--- PROMEDIO GENERAL DEL REGISTRO ---\")\n",
    "p_general = calcular_promedio_general(registro_estudiantes)\n",
    "\n",
    "print(f\"Número total de estudiantes: {len(registro_estudiantes)}\")\n",
    "print(f\"Promedio general del registro: {p_general:.2f}\")"
   ]
  }
 ],
 "metadata": {
  "language_info": {
   "name": "python"
  }
 },
 "nbformat": 4,
 "nbformat_minor": 5
}
